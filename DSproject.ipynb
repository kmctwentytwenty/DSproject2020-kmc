{
 "cells": [
  {
   "cell_type": "markdown",
   "metadata": {},
   "source": [
    "    1. What is the question you hope to answer?\n",
    "Does the S&P or the median House Price have an effect the Misery Index ?\n",
    "\n",
    "    2. What data are you planning to use to answer that question?\n",
    "I am planning on using metrics from three datasets (all metrics reported monthly) from quandl. The datasets that I am using are the Zillow, Yale, and US Misery. \n",
    "\n",
    "    3. What do you know about the data you're using so far?\n",
    "So far, I found that the correlation between the Median House Price and the US Misery Index is approximately -.53 and the correlation between the S&P and the US Misery Index is approximately -.38. This is to say that both the median house price and S&P are negatively correlated with the US Misery Index. Also learned that the median house price increased by 30k from January 2018 to June 2019. Durning this same time period, the misery index has decreased from 6.25 to 5.3. As part of the misery index, the inflation rate has been varying more than the unemployment rate.\n",
    "\n",
    "    4. Why did you choose this topic?\n",
    "I always had a interest in topics related to housing, stocks, and the economy.Additionally, I never knew what the misery index was until I found a dataset in regards to it in Quandl. "
   ]
  },
  {
   "cell_type": "code",
   "execution_count": 1,
   "metadata": {},
   "outputs": [],
   "source": [
    "import scipy.stats as stats\n",
    "import numpy as np\n",
    "\n",
    "%matplotlib inline\n",
    "import seaborn as sns\n",
    "\n",
    "import warnings\n",
    "warnings.filterwarnings('ignore')"
   ]
  },
  {
   "cell_type": "code",
   "execution_count": 2,
   "metadata": {},
   "outputs": [],
   "source": [
    "import quandl\n",
    "import pandas as pd\n",
    "\n",
    "\n",
    "quandl.ApiConfig.api_key = 'TQnvQmTWu3_mxisgXmye'\n",
    "medianlistprice=quandl.get('ZILLOW/M1_MLPAH', start_date='2017-12-31', end_date='2019-12-31') \n",
    "medianpricecut=quandl.get('ZILLOW/M1_MPCDAH', start_date='2017-12-31', end_date='2019-12-31') \n",
    "percentpricecut=quandl.get('ZILLOW/M1_PLPRAH', start_date='2017-12-31', end_date='2019-12-31') \n",
    "\n"
   ]
  },
  {
   "cell_type": "code",
   "execution_count": 3,
   "metadata": {},
   "outputs": [],
   "source": [
    "\n",
    "medianlistprice_df=pd.DataFrame(medianlistprice)\n",
    "medianpricecut_df=pd.DataFrame(medianpricecut)\n",
    "percentpricecut_df=pd.DataFrame(percentpricecut)\n"
   ]
  },
  {
   "cell_type": "code",
   "execution_count": 4,
   "metadata": {},
   "outputs": [],
   "source": [
    "\n",
    "medianlistprice_df[\"medianlistprice\"]=medianlistprice_df.values\n",
    "medianpricecut_df[\"medianpricecut\"]=medianpricecut_df.values\n",
    "percentpricecut_df[\"percentpricecut\"]=percentpricecut_df.values\n"
   ]
  },
  {
   "cell_type": "code",
   "execution_count": 5,
   "metadata": {},
   "outputs": [],
   "source": [
    "\n",
    "del medianlistprice_df[\"Value\"]\n",
    "del medianpricecut_df[\"Value\"]\n",
    "del percentpricecut_df[\"Value\"]\n"
   ]
  },
  {
   "cell_type": "code",
   "execution_count": 7,
   "metadata": {},
   "outputs": [],
   "source": [
    "\n",
    "PriceConcat=pd.concat([medianlistprice_df,medianpricecut_df],axis=1,join=\"inner\")\n",
    "PriceConcatFinal=pd.concat([PriceConcat,percentpricecut_df],axis=1,join=\"inner\")"
   ]
  },
  {
   "cell_type": "code",
   "execution_count": 8,
   "metadata": {},
   "outputs": [],
   "source": [
    "#a healthy misery index is between 6 and 7 percent.\n",
    "quandl.ApiConfig.api_key = 'TQnvQmTWu3_mxisgXmye'\n",
    "Misery=quandl.get('USMISERY/INDEX', start_date='2017-12-31', end_date='2019-12-31')"
   ]
  },
  {
   "cell_type": "code",
   "execution_count": 9,
   "metadata": {},
   "outputs": [],
   "source": [
    "Misery_df=pd.DataFrame(Misery)"
   ]
  },
  {
   "cell_type": "code",
   "execution_count": 10,
   "metadata": {},
   "outputs": [],
   "source": [
    "MasterConcat=pd.concat([PriceConcatFinal,Misery_df],axis=1,join=\"inner\")"
   ]
  },
  {
   "cell_type": "code",
   "execution_count": 11,
   "metadata": {},
   "outputs": [],
   "source": [
    "quandl.ApiConfig.api_key = 'TQnvQmTWu3_mxisgXmye'\n",
    "SPCOMP=quandl.get('YALE/SPCOMP', start_date='2017-12-31', end_date='2019-12-31')"
   ]
  },
  {
   "cell_type": "code",
   "execution_count": 12,
   "metadata": {},
   "outputs": [],
   "source": [
    "SPCOMP_df=pd.DataFrame(SPCOMP)\n",
    "SPCOMP_df_new = SPCOMP_df.rename(index={'Year': 'Date'})"
   ]
  },
  {
   "cell_type": "code",
   "execution_count": 13,
   "metadata": {},
   "outputs": [],
   "source": [
    "MasterConcat=pd.concat([PriceConcatFinal,SPCOMP_df_new],axis=1,join=\"inner\")"
   ]
  },
  {
   "cell_type": "code",
   "execution_count": 14,
   "metadata": {},
   "outputs": [],
   "source": [
    "MasterConcatFinal=pd.concat([MasterConcat,Misery_df],axis=1,join=\"inner\")"
   ]
  },
  {
   "cell_type": "code",
   "execution_count": 15,
   "metadata": {},
   "outputs": [
    {
     "name": "stdout",
     "output_type": "stream",
     "text": [
      "            medianlistprice  medianpricecut  percentpricecut  S&P Composite  \\\n",
      "2017-12-31         259900.0          6100.0         8.617971    2664.340000   \n",
      "2018-01-31         259990.0          7000.0        12.156286    2789.800000   \n",
      "2018-02-28         266900.0          7500.0        11.199670    2705.160000   \n",
      "2018-03-31         269990.0          8000.0        11.932383    2702.770000   \n",
      "2018-04-30         275400.0          9000.0        12.252889    2653.630000   \n",
      "2018-05-31         279800.0          9600.0        13.967016    2701.490000   \n",
      "2018-06-30         279900.0          9900.0        14.811721    2754.350000   \n",
      "2018-07-31         279500.0          9100.0        15.996208    2793.640000   \n",
      "2018-08-31         275999.0          9000.0        16.981095    2857.820000   \n",
      "2018-09-30         279000.0          9000.0        16.550095    2901.500000   \n",
      "2018-10-31         279000.0          9000.0        17.851454    2785.460000   \n",
      "2018-11-30         279000.0          7400.0        14.470910    2723.230000   \n",
      "2018-12-31         276020.0          6500.0         9.866731    2567.310000   \n",
      "2019-01-31         275880.0          7000.0        14.482682    2607.390000   \n",
      "2019-02-28         279900.0          7100.0        12.381529    2754.860000   \n",
      "2019-03-31         285000.0          8000.0        13.189639    2803.980000   \n",
      "2019-04-30         289900.0          9100.0        13.952922    2903.800000   \n",
      "2019-05-31         292000.0          9900.0        15.146112    2854.710000   \n",
      "2019-08-31         289000.0          8659.5        16.640919    2897.498182   \n",
      "2019-09-30         289000.0          8600.0        16.619714    2982.156000   \n",
      "2019-10-31         285000.0          7600.0        16.673705    2977.680000   \n",
      "2019-11-30         284990.0          6900.0        13.076717    3104.904500   \n",
      "2019-12-31         282000.0          6000.0         9.882466    3223.380000   \n",
      "\n",
      "             Dividend    Earnings      CPI  Long Interest Rate   Real Price  \\\n",
      "2017-12-31  48.930000  109.880000  246.524               2.400  2779.062985   \n",
      "2018-01-31  49.286667  111.733333  247.867               2.580  2894.158489   \n",
      "2018-02-28  49.643333  113.586667  248.991               2.860  2793.683857   \n",
      "2018-03-31  50.000000  115.440000  249.554               2.840  2784.918595   \n",
      "2018-04-30  50.330000  117.786667  250.546               2.870  2723.459024   \n",
      "2018-05-31  50.660000  120.133333  251.588               2.976  2761.095271   \n",
      "2018-06-30  50.990000  122.480000  251.989               2.910  2810.641753   \n",
      "2018-07-31  51.440000  125.116667  252.006               2.890  2850.542431   \n",
      "2018-08-31  51.890000  127.753333  252.146               2.890  2914.410607   \n",
      "2018-09-30  52.340000  130.390000  252.439               3.000  2955.521169   \n",
      "2018-10-31  52.810000  131.056667  252.885               3.150  2832.316661   \n",
      "2018-11-30  53.280000  131.723333  252.038               3.120  2778.345483   \n",
      "2018-12-31  53.750000  132.390000  251.233               2.830  2627.662473   \n",
      "2019-01-31  54.146667  133.056667  251.712               2.710  2663.606253   \n",
      "2019-02-28  54.543333  133.723333  252.776               2.680  2802.409823   \n",
      "2019-03-31  54.940000  134.390000  254.202               2.570  2836.376634   \n",
      "2019-04-30  55.319092  134.683333  255.548               2.530  2921.878583   \n",
      "2019-05-31  55.698183  134.976667  256.092               2.400  2866.381124   \n",
      "2019-08-31  56.839092  133.723333  256.558               1.630  2904.059842   \n",
      "2019-09-30  57.220000  132.950000  256.759               1.700  2986.569552   \n",
      "2019-10-31        NaN         NaN  257.346               1.710  2975.284860   \n",
      "2019-11-30        NaN         NaN  257.208               1.810  3104.071562   \n",
      "2019-12-31        NaN         NaN  257.139               1.910  3223.380000   \n",
      "\n",
      "            Real Dividend  Real Earnings  Cyclically Adjusted PE Ratio  \\\n",
      "2017-12-31      51.036862     114.611289                     32.086132   \n",
      "2018-01-31      51.130341     115.912960                     33.307344   \n",
      "2018-02-28      51.267865     117.303685                     32.035382   \n",
      "2018-03-31      51.519711     118.948709                     31.808409   \n",
      "2018-04-30      51.654410     120.886167                     30.970179   \n",
      "2018-05-31      51.777755     122.783937                     31.243615   \n",
      "2018-06-30      52.032103     124.983173                     31.630556   \n",
      "2018-07-31      52.487759     127.665113                     31.886367   \n",
      "2018-08-31      52.917527     130.283107                     32.390277   \n",
      "2018-09-30      53.314485     132.817648                     32.622891   \n",
      "2018-10-31      53.698363     133.261286                     31.037961   \n",
      "2018-11-30      54.358335     134.389283                     30.195583   \n",
      "2018-12-31      55.013558     135.502232                     28.291857   \n",
      "2019-01-31      55.314088     135.925416                     28.380164   \n",
      "2019-02-28      55.484770     136.031444                     29.541549   \n",
      "2019-03-31      55.574766     135.942716                     29.576196   \n",
      "2019-04-30      55.663499     135.521850                     30.133517   \n",
      "2019-05-31      55.925898     135.528502                     29.242031   \n",
      "2019-08-31      56.967809     134.026163                     28.705358   \n",
      "2019-09-30      57.304685     133.146764                     29.229401   \n",
      "2019-10-31            NaN            NaN                     28.840889   \n",
      "2019-11-30            NaN            NaN                     29.911395   \n",
      "2019-12-31            NaN            NaN                     30.913600   \n",
      "\n",
      "            Unemployment Rate  Inflation Rate  Misery Index  \n",
      "2017-12-31                4.1            2.11          6.21  \n",
      "2018-01-31                4.1            2.07          6.17  \n",
      "2018-02-28                4.1            2.21          6.31  \n",
      "2018-03-31                4.1            2.36          6.46  \n",
      "2018-04-30                3.9            2.46          6.36  \n",
      "2018-05-31                3.8            2.80          6.60  \n",
      "2018-06-30                4.0            2.87          6.87  \n",
      "2018-07-31                3.9            2.95          6.85  \n",
      "2018-08-31                3.9            2.70          6.60  \n",
      "2018-09-30                3.7            2.28          5.98  \n",
      "2018-10-31                3.7            2.52          6.22  \n",
      "2018-11-30                3.7            2.18          5.88  \n",
      "2018-12-31                3.9            1.91          5.81  \n",
      "2019-01-31                4.0            1.55          5.55  \n",
      "2019-02-28                3.8            1.52          5.32  \n",
      "2019-03-31                3.8            1.86          5.66  \n",
      "2019-04-30                3.6            2.00          5.60  \n",
      "2019-05-31                3.6            1.79          5.39  \n",
      "2019-08-31                3.7            1.75          5.45  \n",
      "2019-09-30                3.5            1.71          5.21  \n",
      "2019-10-31                3.6            1.76          5.36  \n",
      "2019-11-30                3.5            2.05          5.55  \n",
      "2019-12-31                3.5            2.29          5.79  \n"
     ]
    }
   ],
   "source": [
    "print(MasterConcatFinal)"
   ]
  },
  {
   "cell_type": "code",
   "execution_count": 43,
   "metadata": {},
   "outputs": [
    {
     "name": "stdout",
     "output_type": "stream",
     "text": [
      "Here is the variation in Inflation 0.4141356062876711\n",
      "Here is the variation in unemployment 0.2033319294104753\n"
     ]
    },
    {
     "data": {
      "image/png": "[encoded data removed]",
      "text/plain": [
       "<Figure size 432x288 with 1 Axes>"
      ]
     },
     "metadata": {
      "needs_background": "light"
     },
     "output_type": "display_data"
    }
   ],
   "source": [
    "\n",
    "pricegrp=MasterConcatFinal[\"medianlistprice\"]\n",
    "miserygrp=MasterConcatFinal[\"Misery Index\"]\n",
    "unemploygrp=MasterConcatFinal[\"Unemployment Rate\"]\n",
    "Inflgrp=MasterConcatFinal[\"Inflation Rate\"]\n",
    "\n",
    "#miserygrp.plot(title=\"Misery Index over time\") \n",
    "#sns.mpl.pyplot.ylabel(\"Misery Index\") \n",
    "\n",
    "unemploygrp.plot(title=\"rate over time\")\n",
    "Inflgrp.plot()\n",
    "sns.mpl.pyplot.ylabel(\"Rates\") \n",
    "Unemploystd=MasterConcatFinal[\"Unemployment Rate\"].std()\n",
    "Inflstd=MasterConcatFinal[\"Inflation Rate\"].std()\n",
    "\n",
    "Unemploymean=MasterConcatFinal[\"Unemployment Rate\"].mean()\n",
    "Inflstdmean=MasterConcatFinal[\"Inflation Rate\"].mean()\n",
    "\n",
    "print(f'Here is the variation in Inflation {Inflstd}')\n",
    "print(f'Here is the variation in unemployment {Unemploystd}')"
   ]
  },
  {
   "cell_type": "markdown",
   "metadata": {},
   "source": [
    "Observations of Corrlations in the dataframe (MasterConcat) that includes housing information from zillow and the misery index. \n"
   ]
  },
  {
   "cell_type": "code",
   "execution_count": null,
   "metadata": {},
   "outputs": [],
   "source": [
    "MasterConcatFinal.corr()"
   ]
  },
  {
   "cell_type": "code",
   "execution_count": null,
   "metadata": {},
   "outputs": [],
   "source": [
    "MasterConcatFinal[\"Month_Year\"]=pd.to_datetime(MasterConcatFinal.index.values,format=\"%m-%d-%y\")"
   ]
  },
  {
   "cell_type": "code",
   "execution_count": null,
   "metadata": {},
   "outputs": [],
   "source": [
    "\n",
    "MasterConcatFinal[\"Month\"]=MasterConcatFinal[\"Month_Year\"].dt.month\n",
    "MasterConcatFinal[\"Year\"]=MasterConcatFinal[\"Month_Year\"].dt.year\n",
    "print(MasterConcatFinal[\"Month\"])\n",
    "#if spmonth=MasterConcatFinal.groupby()\n",
    "#NewMonth[m+1 for m in \n",
    "#MasterConcatFinal[\"Month_Year\"]\n",
    "def Quarter(month):\n",
    "        if month==1:\n",
    "            return 1\n",
    "        elif month==2:\n",
    "            return 1\n",
    "        elif month==3:\n",
    "            return 1\n",
    "        elif month==4:\n",
    "            return 2\n",
    "        elif month==5:\n",
    "            return 2\n",
    "        elif month==6:\n",
    "            return 2\n",
    "        elif month==7:\n",
    "            return 3\n",
    "        elif month==8:\n",
    "            return 3\n",
    "        elif month==9:\n",
    "            return 3\n",
    "        elif month==10:\n",
    "            return 4\n",
    "        elif month==11:\n",
    "            return 4\n",
    "        else:\n",
    "            return 4\n",
    "MasterConcatFinal[\"Quarter\"]=MasterConcatFinal.apply(\\\n",
    "                        lambda x:\\\n",
    "                                Quarter( x['Month']),\n",
    "                                      axis=1)\n",
    "print(MasterConcatFinal)"
   ]
  },
  {
   "cell_type": "code",
   "execution_count": null,
   "metadata": {},
   "outputs": [],
   "source": [
    "x=pd.DataFrame(MasterConcatFinal.groupby([\"Quarter\"]).mean())\n",
    "#x.corr()\n",
    "y=pd.DataFrame(MasterConcatFinal.groupby([\"Month\"]).mean())\n",
    "y.corr()"
   ]
  },
  {
   "cell_type": "code",
   "execution_count": null,
   "metadata": {},
   "outputs": [],
   "source": []
  },
  {
   "cell_type": "code",
   "execution_count": null,
   "metadata": {},
   "outputs": [],
   "source": []
  }
 ],
 "metadata": {
  "kernelspec": {
   "display_name": "Python 3",
   "language": "python",
   "name": "python3"
  }
 },
 "nbformat": 4,
 "nbformat_minor": 2
}
